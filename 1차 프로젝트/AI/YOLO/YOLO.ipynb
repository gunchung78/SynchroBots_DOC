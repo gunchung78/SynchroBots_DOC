{
 "cells": [
  {
   "cell_type": "code",
   "execution_count": null,
   "id": "f666867f",
   "metadata": {},
   "outputs": [],
   "source": [
    "import torch\n",
    "\n",
    "# GPU 사용 가능 여부 확인\n",
    "print(f\"CUDA 사용 가능 여부: {torch.cuda.is_available()}\")\n",
    "# 사용 가능한 GPU 개수 확인\n",
    "print(f\"사용 가능한 GPU 개수: {torch.cuda.device_count()}\")\n",
    "# 현재 사용하려는 GPU 이름 확인 (0번 GPU)\n",
    "if torch.cuda.is_available():\n",
    "    print(f\"GPU 이름: {torch.cuda.get_device_name(0)}\")"
   ]
  },
  {
   "cell_type": "code",
   "execution_count": null,
   "id": "6b653388",
   "metadata": {},
   "outputs": [],
   "source": [
    "import glob\n",
    "import cv2\n",
    "import random\n",
    "\n",
    "# 이미지 파일 경로를 가져오기\n",
    "image_paths = glob.glob('C:/Dev/KAIROS_Project_1/YOLO/team/train/images/*png')\n",
    "\n",
    "# 이미지가 없는 경우 에러 처리\n",
    "if not image_paths:\n",
    "    print(\"이미지 파일이 없습니다.\")\n",
    "else:\n",
    "    # 랜덤하게 이미지 선택\n",
    "    selected_image_path = random.choice(image_paths)\n",
    "    print(f\"선택된 이미지: {selected_image_path}\") # 어떤 이미지가 선택되었는지 확인\n",
    "\n",
    "    # 이미지 읽기\n",
    "    # img = cv2.imread(selected_image_path)\n",
    "    \n",
    "    # ⚠️ 수정된 부분: 창 이름(\"Random Image\") 추가\n",
    "    # 이미지 표시\n",
    "    # cv2.imshow(\"Random Image\", img) \n",
    "    \n",
    "    # 키 입력 대기 (창이 바로 꺼지는 것을 방지)\n",
    "    # cv2.waitKey(0)\n",
    "    \n",
    "    # 모든 창 닫기\n",
    "    # cv2.destroyAllWindows()"
   ]
  },
  {
   "cell_type": "code",
   "execution_count": null,
   "id": "994c890c",
   "metadata": {},
   "outputs": [],
   "source": [
    "import yaml\n",
    "\n",
    "# Raw String (r'')을 사용하여 백슬래시 문제를 방지하고, 누락된 콜론(:)을 추가했습니다.\n",
    "data = {'train' : r'C:/Dev/KAIROS_Project_1/YOLO/team/train/images',\n",
    "        'test' : r'C:/Dev/KAIROS_Project_1/YOLO/team/test/images',\n",
    "        'val' : r'C:/Dev/KAIROS_Project_1/YOLO/team/valid/images',  # 🛑 콜론(:) 추가\n",
    "        'nc': 2,\n",
    "        'names': ['0', '1']\n",
    "}\n",
    "\n",
    "# 🛑 콜론(:) 추가 및 Raw String 적용\n",
    "yaml_path = r'C:/Dev/KAIROS_Project_1/YOLO/team/custom_data.yaml'\n",
    "\n",
    "try:\n",
    "    with open(yaml_path, 'w') as f:\n",
    "        yaml.dump(data, f)\n",
    "    print(f\"✅ YAML 파일이 성공적으로 저장되었습니다: {yaml_path}\")\n",
    "    \n",
    "except FileNotFoundError:\n",
    "    print(f\"❌ 오류: 지정된 폴더 경로가 존재하지 않아 YAML 파일을 저장할 수 없습니다.\")\n",
    "except Exception as e:\n",
    "    print(f\"❌ YAML 파일 저장 중 예상치 못한 오류 발생: {e}\")"
   ]
  },
  {
   "cell_type": "code",
   "execution_count": null,
   "id": "579bccb2",
   "metadata": {},
   "outputs": [],
   "source": [
    "with open('C:/Dev/KAIROS_Project_1/YOLO/team/custom_data.yaml', 'r') as f:\n",
    "  view_yaml = yaml.safe_load(f)\n",
    "  display(view_yaml)\n"
   ]
  },
  {
   "cell_type": "code",
   "execution_count": null,
   "id": "4a2351ca",
   "metadata": {},
   "outputs": [],
   "source": [
    "import ultralytics\n",
    "\n",
    "ultralytics.checks()\n",
    "\n",
    "from ultralytics import YOLO\n",
    "\n",
    "model = YOLO('yolov8n.pt')\n",
    "\n",
    "print(type(model.names),len(model.names))\n",
    "\n",
    "print(model.names)"
   ]
  },
  {
   "cell_type": "code",
   "execution_count": null,
   "id": "02454d20",
   "metadata": {},
   "outputs": [],
   "source": [
    "# 기존 코드:\n",
    "# model.train(data='C:/Dev/KAIROS_Project_1/YOLO/team/custom_data.yaml', epochs= 100, patience = 20, batch=32, device=1)\n",
    "\n",
    "# 💡 수정된 듀얼 GPU 학습 코드\n",
    "model.train(\n",
    "    data='C:/Dev/KAIROS_Project_1/YOLO/team/custom_data.yaml', \n",
    "    epochs= 500,\n",
    "    patience = 100,\n",
    "    batch=32,\n",
    "    # 20251028: 12:41\n",
    "    # device = 0으로 해야 GPU로 수행하는거 아님?\n",
    "    device=1,\n",
    "    workers=0,\n",
    "    fliplr=0.0\n",
    ")"
   ]
  },
  {
   "cell_type": "code",
   "execution_count": null,
   "id": "2a236883",
   "metadata": {},
   "outputs": [],
   "source": []
  }
 ],
 "metadata": {
  "kernelspec": {
   "display_name": "Project1",
   "language": "python",
   "name": "python3"
  },
  "language_info": {
   "codemirror_mode": {
    "name": "ipython",
    "version": 3
   },
   "file_extension": ".py",
   "mimetype": "text/x-python",
   "name": "python",
   "nbconvert_exporter": "python",
   "pygments_lexer": "ipython3",
   "version": "3.8.20"
  }
 },
 "nbformat": 4,
 "nbformat_minor": 5
}
